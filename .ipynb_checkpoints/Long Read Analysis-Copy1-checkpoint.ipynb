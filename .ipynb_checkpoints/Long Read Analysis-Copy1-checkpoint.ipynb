{
 "cells": [
  {
   "cell_type": "markdown",
   "metadata": {},
   "source": [
    "# Long Read Analysis:"
   ]
  },
  {
   "cell_type": "markdown",
   "metadata": {},
   "source": [
    "## Activate conda environment:"
   ]
  },
  {
   "cell_type": "code",
   "execution_count": null,
   "metadata": {},
   "outputs": [],
   "source": [
    "conda activate long-read-assembly # activate "
   ]
  },
  {
   "cell_type": "markdown",
   "metadata": {},
   "source": [
    "If the above doesn't work, try the following:"
   ]
  },
  {
   "cell_type": "code",
   "execution_count": null,
   "metadata": {},
   "outputs": [],
   "source": [
    "conda activate long-read-assembly # activate \n",
    "\n",
    "[tali01@bradysaurus ~]$ conda activate /home/tali01/anaconda3/envs/long-read-assembly/ #ggg\n",
    "(long-read-assembly) [tali01@bradysaurus ~]$ # ss"
   ]
  },
  {
   "cell_type": "markdown",
   "metadata": {},
   "source": [
    "## Test tools in conda environment:"
   ]
  },
  {
   "cell_type": "code",
   "execution_count": null,
   "metadata": {},
   "outputs": [],
   "source": [
    "(long-read-assembly) [tali01@bradysaurus ~]$  canu ## call canu\n",
    "\n",
    "usage: canu [-correct | -trim | -assemble | -trim-assemble] \\\n",
    "            [-s <assembly-specifications-file>] \\\n",
    "             -p <assembly-prefix> \\\n",
    "             -d <assembly-directory> \\\n",
    "             genomeSize=<number>[g|m|k] \\\n",
    "             errorRate=0.X \\\n",
    "            [other-options] \\\n",
    "            [-pacbio-raw | -pacbio-corrected | -nanopore-raw | -nanopore-corrected] *fastq"
   ]
  },
  {
   "cell_type": "code",
   "execution_count": null,
   "metadata": {},
   "outputs": [],
   "source": []
  }
 ],
 "metadata": {
  "kernelspec": {
   "display_name": "Python 3",
   "language": "python",
   "name": "python3"
  },
  "language_info": {
   "codemirror_mode": {
    "name": "ipython",
    "version": 3
   },
   "file_extension": ".py",
   "mimetype": "text/x-python",
   "name": "python",
   "nbconvert_exporter": "python",
   "pygments_lexer": "ipython3",
   "version": "3.7.1"
  }
 },
 "nbformat": 4,
 "nbformat_minor": 2
}
